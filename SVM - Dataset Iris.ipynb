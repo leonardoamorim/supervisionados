{
 "cells": [
  {
   "cell_type": "code",
   "execution_count": null,
   "metadata": {},
   "outputs": [],
   "source": [
    "import numpy as np \n",
    "import pandas as pd \n",
    "import matplotlib.pyplot as plt\n",
    "import seaborn as sn\n",
    "import warnings\n",
    "warnings.filterwarnings('ignore')\n",
    "from sklearn.metrics import classification_report, confusion_matrix  "
   ]
  },
  {
   "cell_type": "code",
   "execution_count": null,
   "metadata": {},
   "outputs": [],
   "source": [
    "df = pd.read_csv(\"Iris.csv\")"
   ]
  },
  {
   "cell_type": "code",
   "execution_count": null,
   "metadata": {},
   "outputs": [],
   "source": [
    "df.head()"
   ]
  },
  {
   "cell_type": "code",
   "execution_count": null,
   "metadata": {},
   "outputs": [],
   "source": [
    "y = np.array(df[['Species']])\n",
    "x = np.array(df.drop(['Id','Species'], axis=1))"
   ]
  },
  {
   "cell_type": "code",
   "execution_count": null,
   "metadata": {},
   "outputs": [],
   "source": [
    "print(\"y\")\n",
    "print(y[0:5])\n",
    "print(\"x\")\n",
    "print(x[0:5])"
   ]
  },
  {
   "cell_type": "code",
   "execution_count": null,
   "metadata": {},
   "outputs": [],
   "source": [
    "#Split Data\n",
    "from sklearn.model_selection import train_test_split\n",
    "\n",
    "x_train, x_test, y_train, y_test = train_test_split(x,y, test_size=0.33, stratify=y)"
   ]
  },
  {
   "cell_type": "code",
   "execution_count": null,
   "metadata": {},
   "outputs": [],
   "source": [
    "# Para treinar o kernel SVM, usamos a mesma classe SVC da biblioteca svm do Scikit-Learn. \n",
    "# A diferença está no valor do parâmetro do kernel da classe SVC. \n",
    "# No caso do SVM simples, usamos \"linear\" como o valor para o parâmetro do kernel. \n",
    "# No entanto, para SVM do kernel você pode usar o kernel Gaussiano, polinomial, sigmóide ou computável."
   ]
  },
  {
   "cell_type": "code",
   "execution_count": null,
   "metadata": {},
   "outputs": [],
   "source": [
    "#Linear SVM\n",
    "\n",
    "#Fit The plot\n",
    "from sklearn.svm import LinearSVC\n",
    "\n",
    "model = LinearSVC()\n",
    "model.fit(x_train, y_train.ravel())\n",
    "\n",
    "\n",
    "#Calculate Test Prediction\n",
    "y_pred = model.predict(x_test)\n",
    "print(model.score(x_test,y_test.ravel()))\n",
    "\n",
    "#Plot Confusion Matrix\n",
    "\n",
    "cm = confusion_matrix(y_test, y_pred)\n",
    "\n",
    "df_cm = pd.DataFrame(cm, index = [i for i in np.unique(y)],\n",
    "                  columns = [i for i in np.unique(y)])\n",
    "plt.figure(figsize = (5,5))\n",
    "sn.heatmap(df_cm, annot=True)\n",
    "\n",
    "print(classification_report(y_test, y_pred))  "
   ]
  },
  {
   "cell_type": "code",
   "execution_count": null,
   "metadata": {},
   "outputs": [],
   "source": [
    "# No caso do kernel polinomial, você também precisa passar um valor para o parâmetro degree da classe SVC. \n",
    "# Isso basicamente é o grau do polinômio. "
   ]
  },
  {
   "cell_type": "code",
   "execution_count": null,
   "metadata": {},
   "outputs": [],
   "source": [
    "#Fit The plot\n",
    "from sklearn.svm import SVC\n",
    "\n",
    "model = SVC(kernel='poly', degree=8)\n",
    "model.fit(x_train, y_train.ravel())\n",
    "\n",
    "\n",
    "#Calculate Test Prediction\n",
    "y_pred = model.predict(x_test)\n",
    "print(model.score(x_test,y_test.ravel()))\n",
    "\n",
    "#Plot Confusion Matrix\n",
    "cm = confusion_matrix(y_test, y_pred)\n",
    "\n",
    "\n",
    "df_cm = pd.DataFrame(cm, index = [i for i in np.unique(y)],\n",
    "                  columns = [i for i in np.unique(y)])\n",
    "plt.figure(figsize = (5,5))\n",
    "sn.heatmap(df_cm, annot=True)\n",
    "print(classification_report(y_test, y_pred))  "
   ]
  },
  {
   "cell_type": "code",
   "execution_count": null,
   "metadata": {},
   "outputs": [],
   "source": [
    "# Vamos usar um kernel sigmoid para implementar o Kernel SVM."
   ]
  },
  {
   "cell_type": "code",
   "execution_count": null,
   "metadata": {},
   "outputs": [],
   "source": [
    "#Fit The plot\n",
    "from sklearn.svm import SVC\n",
    "\n",
    "model = SVC(kernel='sigmoid')\n",
    "model.fit(x_train, y_train.ravel())\n",
    "\n",
    "#Calculate Test Prediction\n",
    "y_pred = model.predict(x_test)\n",
    "print(model.score(x_test,y_test.ravel()))\n",
    "\n",
    "#Plot Confusion Matrix\n",
    "cm = confusion_matrix(y_test, y_pred)\n",
    "\n",
    "df_cm = pd.DataFrame(cm, index = [i for i in np.unique(y)],\n",
    "                  columns = [i for i in np.unique(y)])\n",
    "plt.figure(figsize = (5,5))\n",
    "sn.heatmap(df_cm, annot=True)"
   ]
  },
  {
   "cell_type": "code",
   "execution_count": null,
   "metadata": {},
   "outputs": [],
   "source": [
    "# Para usar o kernel gaussiano, você precisa especificar 'rbf' \n",
    "# como valor para o parâmetro Kernel da classe SVC."
   ]
  },
  {
   "cell_type": "code",
   "execution_count": null,
   "metadata": {},
   "outputs": [],
   "source": [
    "#Non-linear SVM\n",
    "\n",
    "#Fit The plot\n",
    "from sklearn.svm import SVC\n",
    "\n",
    "model = SVC(kernel='rbf')\n",
    "model.fit(x_train, y_train.ravel())\n",
    "\n",
    "\n",
    "#Calculate Test Prediction\n",
    "y_pred = model.predict(x_test)\n",
    "print(model.score(x_test,y_test.ravel()))\n",
    "\n",
    "#Plot Confusion Matrix\n",
    "cm = confusion_matrix(y_test, y_pred)\n",
    "\n",
    "df_cm = pd.DataFrame(cm, index = [i for i in np.unique(y)],\n",
    "                  columns = [i for i in np.unique(y)])\n",
    "plt.figure(figsize = (5,5))\n",
    "sn.heatmap(df_cm, annot=True)"
   ]
  },
  {
   "cell_type": "code",
   "execution_count": null,
   "metadata": {},
   "outputs": [],
   "source": [
    "# Comparação do desempenho do kernel\n",
    "\n",
    "# Se compararmos o desempenho dos diferentes tipos de kernels, podemos ver claramente que o kernel sigmóide \n",
    "# executa o pior. \n",
    "# Isso se deve ao motivo pelo qual a função sigmóide retorna dois valores, 0 e 1, portanto, é mais adequado \n",
    "# para problemas de classificação binária. No entanto, no nosso caso, tivemos três classes de saída.\n",
    "\n",
    "# Entre o kernel gaussiano e o núcleo polinomial, podemos ver que o kernel gaussiano alcançou uma taxa de \n",
    "# previsão próximo de 100%, enquanto o kernel polinomial classificou erroneamente uma instância. \n",
    "\n",
    "# Portanto, o kernel gaussiano teve um desempenho um pouco melhor. \n",
    "\n",
    "# No entanto, não existe uma regra rígida quanto ao melhor desempenho do kernel em todos os cenários. \n",
    "# É tudo sobre como testar todos os kernels e selecionar aquele com os melhores resultados no seu conjunto \n",
    "# de dados de teste."
   ]
  }
 ],
 "metadata": {
  "kernelspec": {
   "display_name": "Python 3",
   "language": "python",
   "name": "python3"
  },
  "language_info": {
   "codemirror_mode": {
    "name": "ipython",
    "version": 3
   },
   "file_extension": ".py",
   "mimetype": "text/x-python",
   "name": "python",
   "nbconvert_exporter": "python",
   "pygments_lexer": "ipython3",
   "version": "3.7.3"
  }
 },
 "nbformat": 4,
 "nbformat_minor": 2
}
