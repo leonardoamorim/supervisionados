{
  "nbformat": 4,
  "nbformat_minor": 0,
  "metadata": {
    "colab": {
      "name": "Visualizacao-de-Dados.ipynb",
      "version": "0.3.2",
      "provenance": []
    },
    "kernelspec": {
      "name": "python3",
      "display_name": "Python 3"
    }
  },
  "cells": [
    {
      "cell_type": "code",
      "metadata": {
        "id": "JwYFMXmhZVYj",
        "colab_type": "code",
        "colab": {}
      },
      "source": [
        "import numpy as np"
      ],
      "execution_count": 0,
      "outputs": []
    },
    {
      "cell_type": "code",
      "metadata": {
        "id": "tHtMXBkyZWYD",
        "colab_type": "code",
        "colab": {}
      },
      "source": [
        "import pandas as pd"
      ],
      "execution_count": 0,
      "outputs": []
    },
    {
      "cell_type": "code",
      "metadata": {
        "id": "Q-oVLeDkZXZE",
        "colab_type": "code",
        "colab": {}
      },
      "source": [
        "import warnings\n",
        "warnings.filterwarnings('ignore')"
      ],
      "execution_count": 0,
      "outputs": []
    },
    {
      "cell_type": "code",
      "metadata": {
        "id": "GViN1fDvZZ7Y",
        "colab_type": "code",
        "colab": {}
      },
      "source": [
        "iris=pd.read_csv('/content/supervisionados/IRIS.csv')\n"
      ],
      "execution_count": 0,
      "outputs": []
    },
    {
      "cell_type": "code",
      "metadata": {
        "id": "48h8lIT2ZdkO",
        "colab_type": "code",
        "colab": {}
      },
      "source": [
        "iris.head()"
      ],
      "execution_count": 0,
      "outputs": []
    },
    {
      "cell_type": "code",
      "metadata": {
        "id": "wMZSnj7pZgTd",
        "colab_type": "code",
        "colab": {}
      },
      "source": [
        "iris['variety'].value_counts()"
      ],
      "execution_count": 0,
      "outputs": []
    },
    {
      "cell_type": "code",
      "metadata": {
        "id": "Ro14Ojb0ZiJf",
        "colab_type": "code",
        "colab": {}
      },
      "source": [
        "import matplotlib.pyplot as plt"
      ],
      "execution_count": 0,
      "outputs": []
    },
    {
      "cell_type": "code",
      "metadata": {
        "id": "EbUzua4jZi6E",
        "colab_type": "code",
        "colab": {}
      },
      "source": [
        "for n in range(0,150):\n",
        "     if iris['variety'][n] == 'Setosa':\n",
        "                plt.scatter(iris['sepal.length'][n],iris['sepal.width'][n],color='red')\n",
        "                plt.xlabel('sepal.length')\n",
        "                plt.ylabel('sepal.width')\n",
        "     elif iris['variety'][n] == 'Versicolor':\n",
        "            plt.scatter(iris['sepal.length'][n],iris['sepal.width'][n],color='blue')\n",
        "     else:\n",
        "            plt.scatter(iris['sepal.length'][n],iris['sepal.width'][n],color='green')"
      ],
      "execution_count": 0,
      "outputs": []
    },
    {
      "cell_type": "code",
      "metadata": {
        "id": "lGUS1DteZpN4",
        "colab_type": "code",
        "colab": {}
      },
      "source": [
        "import seaborn as sns"
      ],
      "execution_count": 0,
      "outputs": []
    },
    {
      "cell_type": "code",
      "metadata": {
        "id": "T3zo4xYHZp6F",
        "colab_type": "code",
        "colab": {}
      },
      "source": [
        "sns.jointplot(x=\"sepal.length\", y=\"sepal.width\", data=iris)"
      ],
      "execution_count": 0,
      "outputs": []
    },
    {
      "cell_type": "code",
      "metadata": {
        "id": "gzzXwHTUZriI",
        "colab_type": "code",
        "colab": {}
      },
      "source": [
        "i=sns.FacetGrid(iris, hue=\"variety\", size=5)\n",
        "i=(i.map(plt.scatter,'sepal.length','sepal.width').add_legend())"
      ],
      "execution_count": 0,
      "outputs": []
    },
    {
      "cell_type": "code",
      "metadata": {
        "id": "Q-b7yuVCZtU8",
        "colab_type": "code",
        "colab": {}
      },
      "source": [
        "sns.lmplot(x='sepal.length',y='sepal.width',data=iris)\n",
        "sns.lmplot(x='sepal.length',y='sepal.width',data=iris,hue='variety')\n",
        "sns.residplot(x='sepal.length',y='sepal.width',data=iris)"
      ],
      "execution_count": 0,
      "outputs": []
    },
    {
      "cell_type": "code",
      "metadata": {
        "id": "woKXuiN8Zw0a",
        "colab_type": "code",
        "colab": {}
      },
      "source": [
        "sns.lmplot(x='sepal.length',y='sepal.width',data=iris,hue='variety',col='variety')"
      ],
      "execution_count": 0,
      "outputs": []
    },
    {
      "cell_type": "code",
      "metadata": {
        "id": "iGjnK6p5ZyNk",
        "colab_type": "code",
        "colab": {}
      },
      "source": [
        "plt.subplot(2,2,1)\n",
        "sns.stripplot(x=\"variety\", y=\"sepal.length\", data=iris, jitter=True)\n",
        "plt.subplot(2,2,2)\n",
        "sns.stripplot(x=\"variety\", y=\"sepal.width\", data=iris, jitter=True)\n",
        "plt.subplot(2,2,3)\n",
        "sns.stripplot(x=\"variety\", y=\"petal.length\", data=iris, jitter=True)\n",
        "plt.subplot(2,2,4)\n",
        "sns.stripplot(x=\"variety\", y=\"petal.width\", data=iris, jitter=True)"
      ],
      "execution_count": 0,
      "outputs": []
    },
    {
      "cell_type": "code",
      "metadata": {
        "id": "TeI9EBCSZ0YH",
        "colab_type": "code",
        "colab": {}
      },
      "source": [
        "plt.style.use('ggplot')\n",
        "plt.subplot(2,2,1)\n",
        "sns.boxplot(x=\"variety\", y=\"sepal.length\", data=iris)\n",
        "plt.subplot(2,2,2)\n",
        "sns.boxplot(x=\"variety\", y=\"sepal.width\", data=iris)\n",
        "plt.subplot(2,2,3)\n",
        "sns.boxplot(x=\"variety\", y=\"petal.length\", data=iris)\n",
        "plt.subplot(2,2,4)\n",
        "sns.boxplot(x=\"variety\", y=\"petal.width\", data=iris)"
      ],
      "execution_count": 0,
      "outputs": []
    },
    {
      "cell_type": "code",
      "metadata": {
        "id": "dlV9iiC4Z1ub",
        "colab_type": "code",
        "colab": {}
      },
      "source": [
        "\n",
        "plt.style.use('ggplot')\n",
        "plt.subplot(2,2,1)\n",
        "sns.violinplot(x=\"variety\", y=\"sepal.length\", data=iris)\n",
        "plt.subplot(2,2,2)\n",
        "sns.violinplot(x=\"variety\", y=\"sepal.width\", data=iris)\n",
        "plt.subplot(2,2,3)\n",
        "sns.violinplot(x=\"variety\", y=\"petal.length\", data=iris)\n",
        "plt.subplot(2,2,4)\n",
        "sns.violinplot(x=\"variety\", y=\"petal.width\", data=iris)"
      ],
      "execution_count": 0,
      "outputs": []
    },
    {
      "cell_type": "code",
      "metadata": {
        "id": "DZbKjDb_Z2_1",
        "colab_type": "code",
        "colab": {}
      },
      "source": [
        "sns.pairplot(iris,hue=\"variety\")"
      ],
      "execution_count": 0,
      "outputs": []
    }
  ]
}